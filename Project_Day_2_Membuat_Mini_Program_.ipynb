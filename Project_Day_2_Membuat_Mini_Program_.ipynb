{
  "nbformat": 4,
  "nbformat_minor": 0,
  "metadata": {
    "colab": {
      "provenance": []
    },
    "kernelspec": {
      "name": "python3",
      "display_name": "Python 3"
    },
    "language_info": {
      "name": "python"
    }
  },
  "cells": [
    {
      "cell_type": "markdown",
      "source": [
        "Nama : Jesika Yudiani Putri\n",
        "\n",
        "\n",
        "Tugas Dibimbing Day 2 - Membuat Mini Program"
      ],
      "metadata": {
        "id": "SrjjavGvILNL"
      }
    },
    {
      "cell_type": "code",
      "execution_count": null,
      "metadata": {
        "colab": {
          "base_uri": "https://localhost:8080/"
        },
        "id": "vcGSM79MH9J0",
        "outputId": "c86e0b39-04c6-4f25-bd98-17058f13db4f"
      },
      "outputs": [
        {
          "name": "stdout",
          "output_type": "stream",
          "text": [
            "Masukkan nama mahasiswa: jeje\n",
            "Masukkan NIM: 123\n",
            "Masukkan nilai ujian (0-100): 81\n"
          ]
        }
      ],
      "source": [
        "# Buatlah sebuah program yang\n",
        "# 1. Meminta input dari pengguna\n",
        "nama = input(\"Masukkan nama mahasiswa: \")\n",
        "nim = input(\"Masukkan NIM: \")\n",
        "nilai_input = input(\"Masukkan nilai ujian (0-100): \")\n",
        "\n",
        "# Mengonversi nilai ke tipe integer\n",
        "nilai = int(nilai_input)"
      ]
    },
    {
      "cell_type": "code",
      "source": [
        "# 2. Cek dan tampilkan tipe data dari setiap input\n",
        "print(f\"\\nNama: {nama} (type: {type(nama)})\")\n",
        "print(f\"NIM: {nim} (type: {type(nim)})\")\n",
        "print(f\"Nilai: {nilai} (type: {type(nilai)})\\n\")"
      ],
      "metadata": {
        "colab": {
          "base_uri": "https://localhost:8080/"
        },
        "id": "kF1IS6P_Kv5o",
        "outputId": "7bf26ba1-8872-4cdf-ba0d-10c4fda7299a"
      },
      "execution_count": null,
      "outputs": [
        {
          "output_type": "stream",
          "name": "stdout",
          "text": [
            "\n",
            "Nama: jeje (type: <class 'str'>)\n",
            "NIM: 123 (type: <class 'str'>)\n",
            "Nilai: 81 (type: <class 'int'>)\n",
            "\n"
          ]
        }
      ]
    },
    {
      "cell_type": "code",
      "source": [
        "# 3. Gunakan if else untuk kategori nilai\n",
        "if nilai >= 85 and nilai <= 100:\n",
        "    kategori_nilai = \"A\";\n",
        "    print(\"Kategori Nilai: \", kategori_nilai)\n",
        "elif nilai >= 75 and nilai <= 84:\n",
        "    kategori_nilai = \"B\";\n",
        "    print(\"Kategori Nilai: \", kategori_nilai)\n",
        "elif nilai >= 60 and nilai <= 74:\n",
        "    kategori_nilai = \"C\";\n",
        "    print(\"Kategori Nilai: \", kategori_nilai)\n",
        "elif nilai >= 40 and nilai <= 59:\n",
        "    kategori_nilai = \"D\";\n",
        "    print(\"Kategori Nilai: \", kategori_nilai)\n",
        "else:\n",
        "    kategori_nilai = \"E\";\n",
        "    print(\"Kategori Nilai: \", kategori_nilai)"
      ],
      "metadata": {
        "colab": {
          "base_uri": "https://localhost:8080/"
        },
        "id": "w_txuFFxJr9T",
        "outputId": "879f10c0-fbea-412e-8240-6863a4de44f8"
      },
      "execution_count": null,
      "outputs": [
        {
          "output_type": "stream",
          "name": "stdout",
          "text": [
            "Kategori Nilai:  B\n"
          ]
        }
      ]
    },
    {
      "cell_type": "code",
      "source": [
        "# 4. Menampilkan hasil evaluasi\n",
        "print(\"Hasil Evaluasi:\")\n",
        "print(f\"Mahasiswa: {nama}\")\n",
        "print(f\"NIM: {nim}\")\n",
        "print(f\"Nilai Ujian: {nilai}\")\n",
        "print(f\"Kategori Nilai: {kategori_nilai}\")"
      ],
      "metadata": {
        "colab": {
          "base_uri": "https://localhost:8080/"
        },
        "id": "ZdwtHQY3LFfG",
        "outputId": "cbf07071-2f2f-4d23-9378-398fe6a7b4ca"
      },
      "execution_count": 16,
      "outputs": [
        {
          "output_type": "stream",
          "name": "stdout",
          "text": [
            "Hasil Evaluasi:\n",
            "Mahasiswa: jeje\n",
            "NIM: 123\n",
            "Nilai Ujian: 81\n",
            "Kategori Nilai: B\n"
          ]
        }
      ]
    }
  ]
}